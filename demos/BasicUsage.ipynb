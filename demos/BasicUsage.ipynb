{
 "cells": [
  {
   "cell_type": "markdown",
   "id": "aa67e1e9-d5ea-427c-bef1-f41739fce3a2",
   "metadata": {
    "tags": []
   },
   "source": [
    "# Demo: Basic Usage\n",
    "\n",
    "This notebook contains a demonstration of a common usage of CXAS. We display how to segment CXR anatomy in different data types, how to extract features, how to store the predictions, and how to visualize them.\n",
    "\n",
    "We use a basic frontal CXR as example."
   ]
  },
  {
   "cell_type": "markdown",
   "id": "32a7dc10-9388-41dc-ab71-0d1e75c71431",
   "metadata": {
    "tags": []
   },
   "source": [
    "## Installation of CXAS"
   ]
  },
  {
   "cell_type": "code",
   "execution_count": 2,
   "id": "8e72a378-d0d0-48b3-9177-a89d9553c680",
   "metadata": {
    "tags": []
   },
   "outputs": [
    {
     "name": "stdout",
     "output_type": "stream",
     "text": [
      "\u001b[31mERROR: Could not find a version that satisfies the requirement cxas (from versions: none)\u001b[0m\u001b[31m\n",
      "\u001b[0m\u001b[31mERROR: No matching distribution found for cxas\u001b[0m\u001b[31m\n",
      "\u001b[0m"
     ]
    }
   ],
   "source": [
    "! pip install cxas"
   ]
  },
  {
   "cell_type": "markdown",
   "id": "4c6a7fb9-3839-433b-bc45-5719ccd84bc2",
   "metadata": {
    "tags": []
   },
   "source": [
    "## Import necessary packages"
   ]
  },
  {
   "cell_type": "code",
   "execution_count": 3,
   "id": "bae851d5-fc35-4fc9-9610-f8cc9a83a342",
   "metadata": {
    "tags": []
   },
   "outputs": [],
   "source": [
    "import torch\n",
    "import numpy as np\n",
    "from PIL import Image\n",
    "import shutil\n",
    "import os\n",
    "\n",
    "from cxas import CXAS\n",
    "\n"
   ]
  },
  {
   "cell_type": "markdown",
   "id": "42b31e53-bfb4-4b5f-bb18-942218095798",
   "metadata": {},
   "source": [
    "## Process images"
   ]
  },
  {
   "cell_type": "code",
   "execution_count": null,
   "id": "cc9ab733-7222-4ded-9d12-176cb3cf6108",
   "metadata": {},
   "outputs": [],
   "source": [
    "model = CXAS(\n",
    "    model_name = 'UNet_ResNet50_default',\n",
    "    gpus       = '0'\n",
    ")"
   ]
  },
  {
   "cell_type": "markdown",
   "id": "24a4274e-9672-49dd-a8ac-79d9df77219d",
   "metadata": {
    "tags": []
   },
   "source": [
    "# Process tensors"
   ]
  },
  {
   "cell_type": "code",
   "execution_count": 3,
   "id": "aff35e05-d01c-47c9-b861-1d6487f7c63e",
   "metadata": {
    "tags": []
   },
   "outputs": [
    {
     "name": "stdout",
     "output_type": "stream",
     "text": [
      "feats: \n",
      "\t shape - torch.Size([1, 128, 128, 128]) \n",
      "\t dtype - torch.float32 \n",
      "\n",
      "logits: \n",
      "\t shape - torch.Size([1, 159, 512, 512]) \n",
      "\t dtype - torch.float32 \n",
      "\n",
      "data: \n",
      "\t shape - torch.Size([1, 3, 512, 512]) \n",
      "\t dtype - torch.float32 \n",
      "\n",
      "segmentation_preds: \n",
      "\t shape - torch.Size([1, 159, 512, 512]) \n",
      "\t dtype - torch.bool \n",
      "\n"
     ]
    }
   ],
   "source": [
    "sample_tensor = torch.randn(1,3,512,512).to('cuda:0')\n",
    "\n",
    "_ = model(sample_tensor)\n",
    "\n",
    "sample_output = model({'data': sample_tensor})\n",
    "\n",
    "for k in sample_output.keys():\n",
    "    if type(sample_output[k]) in [np.ndarray, torch.Tensor]:\n",
    "        print('{}: \\n\\t shape - {} \\n\\t dtype - {} \\n'.format(k, sample_output[k].shape, sample_output[k].dtype))\n",
    "    else:\n",
    "        print('{}: \\n\\t example - {}\\n\\t dtype - {} \\n'.format(k, sample_output[k], type(sample_output[k])))\n"
   ]
  },
  {
   "cell_type": "markdown",
   "id": "de35caf9-7f75-4f63-b1ae-ba25ab773263",
   "metadata": {
    "tags": []
   },
   "source": [
    "# Process Image files"
   ]
  },
  {
   "cell_type": "code",
   "execution_count": 4,
   "id": "bf796143-ab30-4838-9a5f-f7c29888edc2",
   "metadata": {
    "tags": []
   },
   "outputs": [
    {
     "name": "stderr",
     "output_type": "stream",
     "text": [
      "WARNING: In /tmp/SimpleITK-build/ITK/Modules/IO/GDCM/src/itkGDCMImageIO.cxx, line 359\n",
      "GDCMImageIO (0x55e900bdb580): Converting from MONOCHROME1 to MONOCHROME2 may impact the meaning of DICOM attributes related to pixel values.\n",
      "\n"
     ]
    },
    {
     "name": "stdout",
     "output_type": "stream",
     "text": [
      "feats: \n",
      "\t shape - torch.Size([1, 128, 128, 128]) \n",
      "\t dtype - torch.float32 \n",
      "\n",
      "logits: \n",
      "\t shape - torch.Size([1, 159, 512, 512]) \n",
      "\t dtype - torch.float32 \n",
      "\n",
      "data: \n",
      "\t shape - torch.Size([1, 3, 512, 512]) \n",
      "\t dtype - torch.float32 \n",
      "\n",
      "orig_data: \n",
      "\t shape - (3, 1024, 1024) \n",
      "\t dtype - uint8 \n",
      "\n",
      "filename: \n",
      "\t example - ['images/00003440_000.jpg']\n",
      "\t dtype - <class 'list'> \n",
      "\n",
      "file_size: \n",
      "\t example - [(1024, 1024)]\n",
      "\t dtype - <class 'list'> \n",
      "\n",
      "segmentation_preds: \n",
      "\t shape - torch.Size([1, 159, 512, 512]) \n",
      "\t dtype - torch.bool \n",
      "\n"
     ]
    }
   ],
   "source": [
    "# Dicom images\n",
    "path = 'images/126_IM-0176-2002.dcm'\n",
    "\n",
    "sample_output = model.process_file(\n",
    "        filename = path\n",
    "        )\n",
    "\n",
    "#  ---------------------------------------------------------------------\n",
    "\n",
    "# png  files\n",
    "path = 'images/00003440_000.png'\n",
    "\n",
    "sample_output = model.process_file(\n",
    "        filename = path\n",
    "        )\n",
    "\n",
    "#  ---------------------------------------------------------------------\n",
    "\n",
    "# jpg files\n",
    "path = 'images/00003440_000.jpg'\n",
    "\n",
    "sample_output = model.process_file(\n",
    "        filename = path\n",
    "        )\n",
    "\n",
    "#  ---------------------------------------------------------------------\n",
    "\n",
    "\n",
    "for k in sample_output.keys():\n",
    "    if type(sample_output[k]) in [np.ndarray, torch.Tensor]:\n",
    "        print('{}: \\n\\t shape - {} \\n\\t dtype - {} \\n'.format(k, sample_output[k].shape, sample_output[k].dtype))\n",
    "    else:\n",
    "        print('{}: \\n\\t example - {}\\n\\t dtype - {} \\n'.format(k, sample_output[k], type(sample_output[k])))"
   ]
  },
  {
   "cell_type": "markdown",
   "id": "fd417c31-51b9-4522-992e-fc4a229044a2",
   "metadata": {
    "tags": []
   },
   "source": [
    "# Store Results"
   ]
  },
  {
   "cell_type": "code",
   "execution_count": 3,
   "id": "8f29deb0-9bde-4254-8cb8-270404bcb7a9",
   "metadata": {
    "tags": []
   },
   "outputs": [
    {
     "name": "stdout",
     "output_type": "stream",
     "text": [
      "Store each segmentation label as dicom-seg (.dcm) in folder \n",
      "         This is only possible for dicom files!\n",
      "Does the out_path exists: True\n"
     ]
    },
    {
     "name": "stderr",
     "output_type": "stream",
     "text": [
      "WARNING: In /tmp/SimpleITK-build/ITK/Modules/IO/GDCM/src/itkGDCMImageIO.cxx, line 359\n",
      "GDCMImageIO (0x55bd50fbfa40): Converting from MONOCHROME1 to MONOCHROME2 may impact the meaning of DICOM attributes related to pixel values.\n",
      "\n",
      "WARNING: In /tmp/SimpleITK-build/ITK/Modules/IO/GDCM/src/itkGDCMImageIO.cxx, line 359\n",
      "GDCMImageIO (0x55bdcc4bb1f0): Converting from MONOCHROME1 to MONOCHROME2 may impact the meaning of DICOM attributes related to pixel values.\n",
      "\n"
     ]
    },
    {
     "name": "stdout",
     "output_type": "stream",
     "text": [
      "First five Files in directory: ['./out_segs/126_IM-0176-2002/i_anterior 1st rib left.dcm', './out_segs/126_IM-0176-2002/i_anterior 1st rib right.dcm', './out_segs/126_IM-0176-2002/i_esophagus.dcm', './out_segs/126_IM-0176-2002/i_posterior 4th rib.dcm', './out_segs/126_IM-0176-2002/i_small bowel.dcm']\n",
      "Store as .npy-file\n",
      "Does the out_path exists: False\n"
     ]
    },
    {
     "name": "stderr",
     "output_type": "stream",
     "text": [
      "WARNING: In /tmp/SimpleITK-build/ITK/Modules/IO/GDCM/src/itkGDCMImageIO.cxx, line 359\n",
      "GDCMImageIO (0x55bde8ed7f90): Converting from MONOCHROME1 to MONOCHROME2 may impact the meaning of DICOM attributes related to pixel values.\n",
      "\n"
     ]
    },
    {
     "name": "stdout",
     "output_type": "stream",
     "text": [
      "Files in directory: ['126_IM-0176-2002.npy']\n",
      "Store as .npz-file\n",
      "Does the out_path exists: False\n"
     ]
    },
    {
     "name": "stderr",
     "output_type": "stream",
     "text": [
      "WARNING: In /tmp/SimpleITK-build/ITK/Modules/IO/GDCM/src/itkGDCMImageIO.cxx, line 359\n",
      "GDCMImageIO (0x55bde8ed7f90): Converting from MONOCHROME1 to MONOCHROME2 may impact the meaning of DICOM attributes related to pixel values.\n",
      "\n"
     ]
    },
    {
     "name": "stdout",
     "output_type": "stream",
     "text": [
      "Files in directory: ['126_IM-0176-2002.npz']\n",
      "Store each segmentation label as jpg in folder\n",
      "Does the out_path exists: False\n"
     ]
    },
    {
     "name": "stderr",
     "output_type": "stream",
     "text": [
      "WARNING: In /tmp/SimpleITK-build/ITK/Modules/IO/GDCM/src/itkGDCMImageIO.cxx, line 359\n",
      "GDCMImageIO (0x55bde8efd590): Converting from MONOCHROME1 to MONOCHROME2 may impact the meaning of DICOM attributes related to pixel values.\n",
      "\n"
     ]
    },
    {
     "name": "stdout",
     "output_type": "stream",
     "text": [
      "First five Files in directory: ['./out_segs/126_IM-0176-2002/126_IM-0176-2002_anterior 8th rib left.jpg', './out_segs/126_IM-0176-2002/126_IM-0176-2002_lung base.jpg', './out_segs/126_IM-0176-2002/126_IM-0176-2002_vertebrae T9.jpg', './out_segs/126_IM-0176-2002/126_IM-0176-2002_pulmonary artery.jpg', './out_segs/126_IM-0176-2002/126_IM-0176-2002_vertebrae C3.jpg']\n",
      "Store segmentation as json in coco format\n",
      "Does the out_path exists: False\n"
     ]
    },
    {
     "name": "stderr",
     "output_type": "stream",
     "text": [
      "WARNING: In /tmp/SimpleITK-build/ITK/Modules/IO/GDCM/src/itkGDCMImageIO.cxx, line 359\n",
      "GDCMImageIO (0x55bdcd00d5d0): Converting from MONOCHROME1 to MONOCHROME2 may impact the meaning of DICOM attributes related to pixel values.\n",
      "\n"
     ]
    },
    {
     "name": "stdout",
     "output_type": "stream",
     "text": [
      "Files in directory: ['126_IM-0176-2002.json']\n"
     ]
    }
   ],
   "source": [
    "path = 'images/126_IM-0176-2002.dcm'\n",
    "out_path = './out_segs'\n",
    "\n",
    "print('Store each segmentation label as dicom-seg (.dcm) in folder \\n \\\n",
    "        This is only possible for dicom files!')\n",
    "print('Does the out_path exists:', os.path.isdir(out_path))\n",
    "\n",
    "_ = model.process_file(\n",
    "        filename = path,\n",
    "        do_store = True, \n",
    "        output_directory = out_path,\n",
    "        storage_type = 'dicom-seg',\n",
    "        )\n",
    "\n",
    "print('First five Files in directory:', [os.path.join(dp, f) \n",
    "                              for dp, dn, fn in os.walk(os.path.expanduser(out_path)) for f in fn][:5])\n",
    "shutil.rmtree(out_path)\n",
    "\n",
    "print('Store as .npy-file')\n",
    "print('Does the out_path exists:', os.path.isdir(out_path))\n",
    "\n",
    "_ = model.process_file(\n",
    "        filename = path,\n",
    "        do_store = True, \n",
    "        output_directory = out_path,\n",
    "        storage_type = 'npy',\n",
    "        )\n",
    "\n",
    "print('Files in directory:', os.listdir(out_path))\n",
    "shutil.rmtree(out_path)\n",
    "\n",
    "print('Store as .npz-file')\n",
    "print('Does the out_path exists:', os.path.isdir(out_path))\n",
    "\n",
    "_ = model.process_file(\n",
    "        filename = path,\n",
    "        do_store = True, \n",
    "        output_directory = out_path,\n",
    "        storage_type = 'npz',\n",
    "        )\n",
    "\n",
    "print('Files in directory:', os.listdir(out_path))\n",
    "shutil.rmtree(out_path)\n",
    "\n",
    "print('Store each segmentation label as jpg in folder')\n",
    "print('Does the out_path exists:', os.path.isdir(out_path))\n",
    "\n",
    "_ = model.process_file(\n",
    "        filename = path,\n",
    "        do_store = True, \n",
    "        output_directory = out_path,\n",
    "        storage_type = 'jpg',\n",
    "        )\n",
    "\n",
    "print('First five Files in directory:', [os.path.join(dp, f) \n",
    "                              for dp, dn, fn in os.walk(os.path.expanduser(out_path)) for f in fn][:5])\n",
    "shutil.rmtree(out_path)\n",
    "\n",
    "print('Store segmentation as json in coco format')\n",
    "print('Does the out_path exists:', os.path.isdir(out_path))\n",
    "_ = model.process_file(\n",
    "        filename = path,\n",
    "        do_store = True, \n",
    "        output_directory = out_path,\n",
    "        storage_type = 'json',\n",
    "        )\n",
    "\n",
    "print('Files in directory:', os.listdir(out_path))\n",
    "\n",
    "shutil.rmtree(out_path)\n",
    "\n"
   ]
  }
 ],
 "metadata": {
  "kernelspec": {
   "display_name": "Python 3 (ipykernel)",
   "language": "python",
   "name": "python3"
  },
  "language_info": {
   "codemirror_mode": {
    "name": "ipython",
    "version": 3
   },
   "file_extension": ".py",
   "mimetype": "text/x-python",
   "name": "python",
   "nbconvert_exporter": "python",
   "pygments_lexer": "ipython3",
   "version": "3.9.16"
  }
 },
 "nbformat": 4,
 "nbformat_minor": 5
}
