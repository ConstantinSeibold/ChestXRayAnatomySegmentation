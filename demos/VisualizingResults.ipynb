{
 "cells": [
  {
   "cell_type": "markdown",
   "id": "486eaaf7-fd73-4146-80a9-c1d91806c9cb",
   "metadata": {
    "tags": []
   },
   "source": [
    "## Import relevant packages"
   ]
  },
  {
   "cell_type": "code",
   "execution_count": 1,
   "id": "6e19777e-0ebb-4d78-a863-3e5bc8da0f61",
   "metadata": {},
   "outputs": [],
   "source": [
    "import os\n",
    "os.chdir('../')\n",
    "from PIL import Image\n",
    "import cxas.visualize as cxas_vis"
   ]
  },
  {
   "cell_type": "markdown",
   "id": "f50d3f1e-078b-4610-ad8e-d5d3fa082d8f",
   "metadata": {},
   "source": [
    "# Visualize Classes\n",
    "\n",
    "A list of a classes as well as super classes to visualize is available [here](ChestXRayAnatomySegmentation/docs/available_classes)."
   ]
  },
  {
   "cell_type": "code",
   "execution_count": null,
   "id": "d47401a1-318e-4e7e-90cc-2af1524619be",
   "metadata": {},
   "outputs": [],
   "source": [
    "cxas_vis.visualize_from_file(\n",
    "    class_names = ['thoracic spine'],\n",
    "    img_path = 'input_images/00003440_000.png',\n",
    "    label_path = 'out_segmentations/00003440_000.npy',\n",
    "    img_size = 512,\n",
    "    cat      = True,\n",
    "    axis     = 1,\n",
    ")"
   ]
  },
  {
   "cell_type": "code",
   "execution_count": null,
   "id": "5504b1c5-b60d-4b54-b6be-ebb9f1f91ac2",
   "metadata": {},
   "outputs": [],
   "source": [
    "out_dir = 'out_vis/'\n",
    "\n",
    "print('Set of files before storing:', os.listdir(out_dir))\n",
    "\n",
    "_ = cxas_vis.visualize_from_file(\n",
    "    class_names = ['thoracic spine'],\n",
    "    img_path = 'images/00003440_000.png',\n",
    "    label_path = 'out_images/00003440_000.npy',\n",
    "    img_size = 512,\n",
    "    cat      = True,\n",
    "    axis     = 1,\n",
    "    do_store = True,\n",
    "    out_dir  = 'out_vis/',\n",
    ")\n",
    "\n",
    "print('Set of files after storing:',os.listdir(out_dir))\n",
    "\n",
    "Image.open(os.path.join(out_dir, os.listdir(out_dir)[0]))"
   ]
  }
 ],
 "metadata": {
  "kernelspec": {
   "display_name": "Python 3 (ipykernel)",
   "language": "python",
   "name": "python3"
  },
  "language_info": {
   "codemirror_mode": {
    "name": "ipython",
    "version": 3
   },
   "file_extension": ".py",
   "mimetype": "text/x-python",
   "name": "python",
   "nbconvert_exporter": "python",
   "pygments_lexer": "ipython3",
   "version": "3.9.16"
  }
 },
 "nbformat": 4,
 "nbformat_minor": 5
}
