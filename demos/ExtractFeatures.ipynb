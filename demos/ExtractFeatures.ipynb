{
 "cells": [
  {
   "cell_type": "code",
   "execution_count": null,
   "id": "81a43ecc-4daa-4fe4-89fa-8c7ddc93fcec",
   "metadata": {},
   "outputs": [],
   "source": [
    "import torch\n",
    "import numpy as np\n",
    "from PIL import Image\n",
    "import shutil\n",
    "import os\n",
    "os.chdir('../')\n",
    "from cxas.segmentor import CXAS\n",
    "import pandas as pd\n"
   ]
  },
  {
   "cell_type": "code",
   "execution_count": null,
   "id": "f7f06c6d-8bd4-4854-a61e-1d2998d04430",
   "metadata": {},
   "outputs": [],
   "source": [
    "model = CXAS(\n",
    "    model_name = 'UNet_ResNet50_default',\n",
    "    gpus       = '0'\n",
    ")"
   ]
  },
  {
   "cell_type": "markdown",
   "id": "0b1e5ffe-1ac7-4a81-9133-60b2ffa8e74d",
   "metadata": {
    "tags": []
   },
   "source": [
    "# Extract Features\n",
    "\n",
    "A list of all extractable features is provided [here](ChestXRayAnatomySegmentation/docs/available_features)."
   ]
  },
  {
   "cell_type": "code",
   "execution_count": null,
   "id": "725b9776-efc6-4524-bb03-b1c26506a970",
   "metadata": {},
   "outputs": [
    {
     "name": "stderr",
     "output_type": "stream",
     "text": [
      "WARNING: In /tmp/SimpleITK-build/ITK/Modules/IO/GDCM/src/itkGDCMImageIO.cxx, line 359\n",
      "GDCMImageIO (0x55a979322580): Converting from MONOCHROME1 to MONOCHROME2 may impact the meaning of DICOM attributes related to pixel values.\n",
      "\n"
     ]
    },
    {
     "name": "stdout",
     "output_type": "stream",
     "text": [
      "0.522077922077922\n"
     ]
    },
    {
     "data": {
      "image/png": "[encoded data removed]",
      "text/plain": [
       "<PIL.Image.Image image mode=RGB size=512x512>"
      ]
     },
     "execution_count": 3,
     "metadata": {},
     "output_type": "execute_result"
    }
   ],
   "source": [
    "path = 'images/126_IM-0176-2002.dcm'\n",
    "\n",
    "features = model.extract_features_for_file(\n",
    "    filename = path,\n",
    "    feat_to_extract = 'CTR',\n",
    "    draw = True,\n",
    ")\n",
    "print(features['score'])\n",
    "features['drawing']\n"
   ]
  },
  {
   "cell_type": "code",
   "execution_count": null,
   "id": "efec9b1c-4914-48a8-a58d-4c7fc2fb1cbb",
   "metadata": {},
   "outputs": [
    {
     "name": "stderr",
     "output_type": "stream",
     "text": [
      "WARNING: In /tmp/SimpleITK-build/ITK/Modules/IO/GDCM/src/itkGDCMImageIO.cxx, line 359\n",
      "GDCMImageIO (0x557cbe1e61e0): Converting from MONOCHROME1 to MONOCHROME2 may impact the meaning of DICOM attributes related to pixel values.\n",
      "\n"
     ]
    },
    {
     "name": "stdout",
     "output_type": "stream",
     "text": [
      "The SCD for this image is: 22.990530139085948\n"
     ]
    },
    {
     "name": "stderr",
     "output_type": "stream",
     "text": [
      "/homes/constantin/.conda/envs/bidlord/lib/python3.9/site-packages/numpy/core/fromnumeric.py:3474: RuntimeWarning: Mean of empty slice.\n",
      "  return _methods._mean(a, axis=axis, dtype=dtype,\n",
      "/homes/constantin/.conda/envs/bidlord/lib/python3.9/site-packages/numpy/core/_methods.py:189: RuntimeWarning: invalid value encountered in double_scalars\n",
      "  ret = ret.dtype.type(ret / rcount)\n"
     ]
    },
    {
     "data": {
      "image/png": "[encoded data removed]",
      "text/plain": [
       "<PIL.Image.Image image mode=RGB size=512x512>"
      ]
     },
     "execution_count": 5,
     "metadata": {},
     "output_type": "execute_result"
    }
   ],
   "source": [
    "path = 'images/126_IM-0176-2002.dcm'\n",
    "\n",
    "features = model.extract_features_for_file(\n",
    "    filename = path,\n",
    "    feat_to_extract = 'SCD',\n",
    "    draw = True,\n",
    ")\n",
    "print('The SCD'features['score'])\n",
    "features['drawing']\n"
   ]
  },
  {
   "cell_type": "markdown",
   "id": "ae309550-a0fc-4362-8873-b690ce7b3775",
   "metadata": {
    "tags": []
   },
   "source": [
    "# Extract Features for folder"
   ]
  },
  {
   "cell_type": "code",
   "execution_count": 4,
   "id": "d0705bc6-9794-4ea1-9bd1-dcdc374700c5",
   "metadata": {
    "tags": []
   },
   "outputs": [
    {
     "name": "stderr",
     "output_type": "stream",
     "text": [
      " 20%|███████████████████████████████████████████████                                                                                                                                                                                            | 1/5 [00:00<00:01,  2.46it/s]WARNING: In /tmp/SimpleITK-build/ITK/Modules/IO/GDCM/src/itkGDCMImageIO.cxx, line 359\n",
      "GDCMImageIO (0x55d32b99ac30): Converting from MONOCHROME1 to MONOCHROME2 may impact the meaning of DICOM attributes related to pixel values.\n",
      "\n",
      "100%|███████████████████████████████████████████████████████████████████████████████████████████████████████████████████████████████████████████████████████████████████████████████████████████████████████████████████████████████████████████| 5/5 [00:01<00:00,  4.87it/s]\n"
     ]
    },
    {
     "data": {
      "text/html": [
       "<div>\n",
       "<style scoped>\n",
       "    .dataframe tbody tr th:only-of-type {\n",
       "        vertical-align: middle;\n",
       "    }\n",
       "\n",
       "    .dataframe tbody tr th {\n",
       "        vertical-align: top;\n",
       "    }\n",
       "\n",
       "    .dataframe thead th {\n",
       "        text-align: right;\n",
       "    }\n",
       "</style>\n",
       "<table border=\"1\" class=\"dataframe\">\n",
       "  <thead>\n",
       "    <tr style=\"text-align: right;\">\n",
       "      <th></th>\n",
       "      <th>Unnamed: 0</th>\n",
       "      <th>score</th>\n",
       "      <th>filename</th>\n",
       "    </tr>\n",
       "  </thead>\n",
       "  <tbody>\n",
       "    <tr>\n",
       "      <th>0</th>\n",
       "      <td>0</td>\n",
       "      <td>0.406040</td>\n",
       "      <td>./images/00003440_000.png</td>\n",
       "    </tr>\n",
       "    <tr>\n",
       "      <th>1</th>\n",
       "      <td>1</td>\n",
       "      <td>0.517815</td>\n",
       "      <td>./images/cardiomegaly_failure_706_05379.png</td>\n",
       "    </tr>\n",
       "    <tr>\n",
       "      <th>2</th>\n",
       "      <td>2</td>\n",
       "      <td>0.522078</td>\n",
       "      <td>./images/126_IM-0176-2002.dcm</td>\n",
       "    </tr>\n",
       "    <tr>\n",
       "      <th>3</th>\n",
       "      <td>3</td>\n",
       "      <td>0.406040</td>\n",
       "      <td>./images/00003440_000.jpg</td>\n",
       "    </tr>\n",
       "    <tr>\n",
       "      <th>4</th>\n",
       "      <td>4</td>\n",
       "      <td>-1.000000</td>\n",
       "      <td>./images/CXAS_logo.png</td>\n",
       "    </tr>\n",
       "  </tbody>\n",
       "</table>\n",
       "</div>"
      ],
      "text/plain": [
       "   Unnamed: 0     score                                     filename\n",
       "0           0  0.406040                    ./images/00003440_000.png\n",
       "1           1  0.517815  ./images/cardiomegaly_failure_706_05379.png\n",
       "2           2  0.522078                ./images/126_IM-0176-2002.dcm\n",
       "3           3  0.406040                    ./images/00003440_000.jpg\n",
       "4           4 -1.000000                       ./images/CXAS_logo.png"
      ]
     },
     "execution_count": 4,
     "metadata": {},
     "output_type": "execute_result"
    }
   ],
   "source": [
    "input_path = './images'\n",
    "out_path = './out_feats/'\n",
    "\n",
    "model.extract_features_for_folder(\n",
    "    input_directory_name = input_path,  \n",
    "    output_directory = out_path,\n",
    "    feat_to_extract = 'CTR',\n",
    "    create = True, \n",
    ")\n",
    "\n",
    "pd.read_csv('./out_feats/images.csv')"
   ]
  }
 ],
 "metadata": {
  "kernelspec": {
   "display_name": "Python 3 (ipykernel)",
   "language": "python",
   "name": "python3"
  },
  "language_info": {
   "codemirror_mode": {
    "name": "ipython",
    "version": 3
   },
   "file_extension": ".py",
   "mimetype": "text/x-python",
   "name": "python",
   "nbconvert_exporter": "python",
   "pygments_lexer": "ipython3",
   "version": "3.9.16"
  }
 },
 "nbformat": 4,
 "nbformat_minor": 5
}
